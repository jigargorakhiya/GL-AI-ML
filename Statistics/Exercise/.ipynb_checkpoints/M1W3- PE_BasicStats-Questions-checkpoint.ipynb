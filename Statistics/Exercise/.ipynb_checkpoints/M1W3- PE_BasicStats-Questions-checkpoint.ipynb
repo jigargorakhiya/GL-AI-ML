{
 "cells": [
  {
   "cell_type": "markdown",
   "metadata": {},
   "source": [
    "# 1.Import necessary packages"
   ]
  },
  {
   "cell_type": "code",
   "execution_count": 9,
   "metadata": {},
   "outputs": [],
   "source": [
    "import numpy as np\n",
    "import pandas as pd\n",
    "import seaborn as sns"
   ]
  },
  {
   "cell_type": "markdown",
   "metadata": {},
   "source": [
    "# 2.Load the file"
   ]
  },
  {
   "cell_type": "code",
   "execution_count": 3,
   "metadata": {},
   "outputs": [
    {
     "data": {
      "text/html": [
       "<div>\n",
       "<style scoped>\n",
       "    .dataframe tbody tr th:only-of-type {\n",
       "        vertical-align: middle;\n",
       "    }\n",
       "\n",
       "    .dataframe tbody tr th {\n",
       "        vertical-align: top;\n",
       "    }\n",
       "\n",
       "    .dataframe thead th {\n",
       "        text-align: right;\n",
       "    }\n",
       "</style>\n",
       "<table border=\"1\" class=\"dataframe\">\n",
       "  <thead>\n",
       "    <tr style=\"text-align: right;\">\n",
       "      <th></th>\n",
       "      <th>Mthly_HH_Income</th>\n",
       "      <th>Mthly_HH_Expense</th>\n",
       "      <th>No_of_Fly_Members</th>\n",
       "      <th>Emi_or_Rent_Amt</th>\n",
       "      <th>Annual_HH_Income</th>\n",
       "      <th>Highest_Qualified_Member</th>\n",
       "      <th>No_of_Earning_Members</th>\n",
       "    </tr>\n",
       "  </thead>\n",
       "  <tbody>\n",
       "    <tr>\n",
       "      <th>0</th>\n",
       "      <td>5000</td>\n",
       "      <td>8000</td>\n",
       "      <td>3</td>\n",
       "      <td>2000</td>\n",
       "      <td>64200</td>\n",
       "      <td>Under-Graduate</td>\n",
       "      <td>1</td>\n",
       "    </tr>\n",
       "    <tr>\n",
       "      <th>1</th>\n",
       "      <td>6000</td>\n",
       "      <td>7000</td>\n",
       "      <td>2</td>\n",
       "      <td>3000</td>\n",
       "      <td>79920</td>\n",
       "      <td>Illiterate</td>\n",
       "      <td>1</td>\n",
       "    </tr>\n",
       "    <tr>\n",
       "      <th>2</th>\n",
       "      <td>10000</td>\n",
       "      <td>4500</td>\n",
       "      <td>2</td>\n",
       "      <td>0</td>\n",
       "      <td>112800</td>\n",
       "      <td>Under-Graduate</td>\n",
       "      <td>1</td>\n",
       "    </tr>\n",
       "    <tr>\n",
       "      <th>3</th>\n",
       "      <td>10000</td>\n",
       "      <td>2000</td>\n",
       "      <td>1</td>\n",
       "      <td>0</td>\n",
       "      <td>97200</td>\n",
       "      <td>Illiterate</td>\n",
       "      <td>1</td>\n",
       "    </tr>\n",
       "    <tr>\n",
       "      <th>4</th>\n",
       "      <td>12500</td>\n",
       "      <td>12000</td>\n",
       "      <td>2</td>\n",
       "      <td>3000</td>\n",
       "      <td>147000</td>\n",
       "      <td>Graduate</td>\n",
       "      <td>1</td>\n",
       "    </tr>\n",
       "  </tbody>\n",
       "</table>\n",
       "</div>"
      ],
      "text/plain": [
       "   Mthly_HH_Income  Mthly_HH_Expense  No_of_Fly_Members  Emi_or_Rent_Amt  \\\n",
       "0             5000              8000                  3             2000   \n",
       "1             6000              7000                  2             3000   \n",
       "2            10000              4500                  2                0   \n",
       "3            10000              2000                  1                0   \n",
       "4            12500             12000                  2             3000   \n",
       "\n",
       "   Annual_HH_Income Highest_Qualified_Member  No_of_Earning_Members  \n",
       "0             64200           Under-Graduate                      1  \n",
       "1             79920               Illiterate                      1  \n",
       "2            112800           Under-Graduate                      1  \n",
       "3             97200               Illiterate                      1  \n",
       "4            147000                 Graduate                      1  "
      ]
     },
     "execution_count": 3,
     "metadata": {},
     "output_type": "execute_result"
    }
   ],
   "source": [
    "df = pd.read_csv(\"Inc_Exp_Data.csv\")\n",
    "\n",
    "df.head()"
   ]
  },
  {
   "cell_type": "markdown",
   "metadata": {},
   "source": [
    "# 3.Analyze the data"
   ]
  },
  {
   "cell_type": "code",
   "execution_count": 5,
   "metadata": {},
   "outputs": [
    {
     "data": {
      "text/html": [
       "<div>\n",
       "<style scoped>\n",
       "    .dataframe tbody tr th:only-of-type {\n",
       "        vertical-align: middle;\n",
       "    }\n",
       "\n",
       "    .dataframe tbody tr th {\n",
       "        vertical-align: top;\n",
       "    }\n",
       "\n",
       "    .dataframe thead th {\n",
       "        text-align: right;\n",
       "    }\n",
       "</style>\n",
       "<table border=\"1\" class=\"dataframe\">\n",
       "  <thead>\n",
       "    <tr style=\"text-align: right;\">\n",
       "      <th></th>\n",
       "      <th>Mthly_HH_Income</th>\n",
       "      <th>Mthly_HH_Expense</th>\n",
       "      <th>No_of_Fly_Members</th>\n",
       "      <th>Emi_or_Rent_Amt</th>\n",
       "      <th>Annual_HH_Income</th>\n",
       "      <th>Highest_Qualified_Member</th>\n",
       "      <th>No_of_Earning_Members</th>\n",
       "    </tr>\n",
       "  </thead>\n",
       "  <tbody>\n",
       "    <tr>\n",
       "      <th>count</th>\n",
       "      <td>50.000000</td>\n",
       "      <td>50.000000</td>\n",
       "      <td>50.000000</td>\n",
       "      <td>50.000000</td>\n",
       "      <td>5.000000e+01</td>\n",
       "      <td>50</td>\n",
       "      <td>50.000000</td>\n",
       "    </tr>\n",
       "    <tr>\n",
       "      <th>unique</th>\n",
       "      <td>NaN</td>\n",
       "      <td>NaN</td>\n",
       "      <td>NaN</td>\n",
       "      <td>NaN</td>\n",
       "      <td>NaN</td>\n",
       "      <td>5</td>\n",
       "      <td>NaN</td>\n",
       "    </tr>\n",
       "    <tr>\n",
       "      <th>top</th>\n",
       "      <td>NaN</td>\n",
       "      <td>NaN</td>\n",
       "      <td>NaN</td>\n",
       "      <td>NaN</td>\n",
       "      <td>NaN</td>\n",
       "      <td>Graduate</td>\n",
       "      <td>NaN</td>\n",
       "    </tr>\n",
       "    <tr>\n",
       "      <th>freq</th>\n",
       "      <td>NaN</td>\n",
       "      <td>NaN</td>\n",
       "      <td>NaN</td>\n",
       "      <td>NaN</td>\n",
       "      <td>NaN</td>\n",
       "      <td>19</td>\n",
       "      <td>NaN</td>\n",
       "    </tr>\n",
       "    <tr>\n",
       "      <th>mean</th>\n",
       "      <td>41558.000000</td>\n",
       "      <td>18818.000000</td>\n",
       "      <td>4.060000</td>\n",
       "      <td>3060.000000</td>\n",
       "      <td>4.900190e+05</td>\n",
       "      <td>NaN</td>\n",
       "      <td>1.460000</td>\n",
       "    </tr>\n",
       "    <tr>\n",
       "      <th>std</th>\n",
       "      <td>26097.908979</td>\n",
       "      <td>12090.216824</td>\n",
       "      <td>1.517382</td>\n",
       "      <td>6241.434948</td>\n",
       "      <td>3.201358e+05</td>\n",
       "      <td>NaN</td>\n",
       "      <td>0.734291</td>\n",
       "    </tr>\n",
       "    <tr>\n",
       "      <th>min</th>\n",
       "      <td>5000.000000</td>\n",
       "      <td>2000.000000</td>\n",
       "      <td>1.000000</td>\n",
       "      <td>0.000000</td>\n",
       "      <td>6.420000e+04</td>\n",
       "      <td>NaN</td>\n",
       "      <td>1.000000</td>\n",
       "    </tr>\n",
       "    <tr>\n",
       "      <th>25%</th>\n",
       "      <td>23550.000000</td>\n",
       "      <td>10000.000000</td>\n",
       "      <td>3.000000</td>\n",
       "      <td>0.000000</td>\n",
       "      <td>2.587500e+05</td>\n",
       "      <td>NaN</td>\n",
       "      <td>1.000000</td>\n",
       "    </tr>\n",
       "    <tr>\n",
       "      <th>50%</th>\n",
       "      <td>35000.000000</td>\n",
       "      <td>15500.000000</td>\n",
       "      <td>4.000000</td>\n",
       "      <td>0.000000</td>\n",
       "      <td>4.474200e+05</td>\n",
       "      <td>NaN</td>\n",
       "      <td>1.000000</td>\n",
       "    </tr>\n",
       "    <tr>\n",
       "      <th>75%</th>\n",
       "      <td>50375.000000</td>\n",
       "      <td>25000.000000</td>\n",
       "      <td>5.000000</td>\n",
       "      <td>3500.000000</td>\n",
       "      <td>5.947200e+05</td>\n",
       "      <td>NaN</td>\n",
       "      <td>2.000000</td>\n",
       "    </tr>\n",
       "    <tr>\n",
       "      <th>max</th>\n",
       "      <td>100000.000000</td>\n",
       "      <td>50000.000000</td>\n",
       "      <td>7.000000</td>\n",
       "      <td>35000.000000</td>\n",
       "      <td>1.404000e+06</td>\n",
       "      <td>NaN</td>\n",
       "      <td>4.000000</td>\n",
       "    </tr>\n",
       "  </tbody>\n",
       "</table>\n",
       "</div>"
      ],
      "text/plain": [
       "        Mthly_HH_Income  Mthly_HH_Expense  No_of_Fly_Members  Emi_or_Rent_Amt  \\\n",
       "count         50.000000         50.000000          50.000000        50.000000   \n",
       "unique              NaN               NaN                NaN              NaN   \n",
       "top                 NaN               NaN                NaN              NaN   \n",
       "freq                NaN               NaN                NaN              NaN   \n",
       "mean       41558.000000      18818.000000           4.060000      3060.000000   \n",
       "std        26097.908979      12090.216824           1.517382      6241.434948   \n",
       "min         5000.000000       2000.000000           1.000000         0.000000   \n",
       "25%        23550.000000      10000.000000           3.000000         0.000000   \n",
       "50%        35000.000000      15500.000000           4.000000         0.000000   \n",
       "75%        50375.000000      25000.000000           5.000000      3500.000000   \n",
       "max       100000.000000      50000.000000           7.000000     35000.000000   \n",
       "\n",
       "        Annual_HH_Income Highest_Qualified_Member  No_of_Earning_Members  \n",
       "count       5.000000e+01                       50              50.000000  \n",
       "unique               NaN                        5                    NaN  \n",
       "top                  NaN                 Graduate                    NaN  \n",
       "freq                 NaN                       19                    NaN  \n",
       "mean        4.900190e+05                      NaN               1.460000  \n",
       "std         3.201358e+05                      NaN               0.734291  \n",
       "min         6.420000e+04                      NaN               1.000000  \n",
       "25%         2.587500e+05                      NaN               1.000000  \n",
       "50%         4.474200e+05                      NaN               1.000000  \n",
       "75%         5.947200e+05                      NaN               2.000000  \n",
       "max         1.404000e+06                      NaN               4.000000  "
      ]
     },
     "execution_count": 5,
     "metadata": {},
     "output_type": "execute_result"
    }
   ],
   "source": [
    "df.describe(include=\"all\")"
   ]
  },
  {
   "cell_type": "markdown",
   "metadata": {},
   "source": [
    "# 4.What is the Mean Expense of a Household?"
   ]
  },
  {
   "cell_type": "code",
   "execution_count": 6,
   "metadata": {},
   "outputs": [
    {
     "data": {
      "text/plain": [
       "18818.0"
      ]
     },
     "execution_count": 6,
     "metadata": {},
     "output_type": "execute_result"
    }
   ],
   "source": [
    "df['Mthly_HH_Expense'].mean()"
   ]
  },
  {
   "cell_type": "markdown",
   "metadata": {},
   "source": [
    "# 5.What is the Median Household Expense?"
   ]
  },
  {
   "cell_type": "code",
   "execution_count": 7,
   "metadata": {},
   "outputs": [
    {
     "data": {
      "text/plain": [
       "15500.0"
      ]
     },
     "execution_count": 7,
     "metadata": {},
     "output_type": "execute_result"
    }
   ],
   "source": [
    "df['Mthly_HH_Expense'].median()"
   ]
  },
  {
   "cell_type": "markdown",
   "metadata": {},
   "source": [
    "# 6.What is the Monthly Expense for most of the Households?"
   ]
  },
  {
   "cell_type": "code",
   "execution_count": 8,
   "metadata": {},
   "outputs": [
    {
     "data": {
      "text/plain": [
       "18818.0"
      ]
     },
     "execution_count": 8,
     "metadata": {},
     "output_type": "execute_result"
    }
   ],
   "source": [
    "df['Mthly_HH_Expense'].mean()"
   ]
  },
  {
   "cell_type": "markdown",
   "metadata": {},
   "source": [
    "# 7.Plot the Histogram to count the Highest qualified member"
   ]
  },
  {
   "cell_type": "code",
   "execution_count": 39,
   "metadata": {},
   "outputs": [
    {
     "ename": "NameError",
     "evalue": "name 'inc_exp' is not defined",
     "output_type": "error",
     "traceback": [
      "\u001b[0;31m---------------------------------------------------------------------------\u001b[0m",
      "\u001b[0;31mNameError\u001b[0m                                 Traceback (most recent call last)",
      "\u001b[0;32m<ipython-input-39-367e16031a9d>\u001b[0m in \u001b[0;36m<module>\u001b[0;34m\u001b[0m\n\u001b[0;32m----> 1\u001b[0;31m \u001b[0minc_exp\u001b[0m\u001b[0;34m[\u001b[0m\u001b[0;34m'Highest_Qualified_Member'\u001b[0m\u001b[0;34m]\u001b[0m\u001b[0;34m.\u001b[0m\u001b[0mvalue_counts\u001b[0m\u001b[0;34m(\u001b[0m\u001b[0;34m)\u001b[0m\u001b[0;34m.\u001b[0m\u001b[0mplot\u001b[0m\u001b[0;34m(\u001b[0m\u001b[0mkind\u001b[0m\u001b[0;34m=\u001b[0m\u001b[0;34m'bar'\u001b[0m\u001b[0;34m)\u001b[0m\u001b[0;34m\u001b[0m\u001b[0;34m\u001b[0m\u001b[0m\n\u001b[0m",
      "\u001b[0;31mNameError\u001b[0m: name 'inc_exp' is not defined"
     ]
    }
   ],
   "source": [
    "df['Highest_Qualified_Member'].value_counts().plot(kind='bar')"
   ]
  },
  {
   "cell_type": "markdown",
   "metadata": {},
   "source": [
    "# 8.Calculate IQR(difference between 75% and 25% quartile)"
   ]
  },
  {
   "cell_type": "code",
   "execution_count": 11,
   "metadata": {},
   "outputs": [
    {
     "data": {
      "text/plain": [
       "26825.0"
      ]
     },
     "execution_count": 11,
     "metadata": {},
     "output_type": "execute_result"
    }
   ],
   "source": [
    "Q1 = df['Mthly_HH_Income'].quantile(0.25)\n",
    "Q3 = df['Mthly_HH_Income'].quantile(0.75)\n",
    "IQR = Q3 - Q1\n",
    "IQR"
   ]
  },
  {
   "cell_type": "markdown",
   "metadata": {},
   "source": [
    "# 9.Calculate Standard Deviation for first 4 columns."
   ]
  },
  {
   "cell_type": "code",
   "execution_count": 25,
   "metadata": {},
   "outputs": [
    {
     "data": {
      "text/plain": [
       "Mthly_HH_Income      26097.908979\n",
       "Mthly_HH_Expense     12090.216824\n",
       "No_of_Fly_Members        1.517382\n",
       "Emi_or_Rent_Amt       6241.434948\n",
       "dtype: float64"
      ]
     },
     "execution_count": 25,
     "metadata": {},
     "output_type": "execute_result"
    }
   ],
   "source": [
    "df[['Mthly_HH_Income','Mthly_HH_Expense','No_of_Fly_Members','Emi_or_Rent_Amt']].std()"
   ]
  },
  {
   "cell_type": "markdown",
   "metadata": {},
   "source": [
    "# 10.Calculate Variance for first 3 columns."
   ]
  },
  {
   "cell_type": "code",
   "execution_count": 26,
   "metadata": {},
   "outputs": [
    {
     "data": {
      "text/plain": [
       "Mthly_HH_Income      6.811009e+08\n",
       "Mthly_HH_Expense     1.461733e+08\n",
       "No_of_Fly_Members    2.302449e+00\n",
       "dtype: float64"
      ]
     },
     "execution_count": 26,
     "metadata": {},
     "output_type": "execute_result"
    }
   ],
   "source": [
    "df[['Mthly_HH_Income','Mthly_HH_Expense','No_of_Fly_Members']].var()"
   ]
  },
  {
   "cell_type": "markdown",
   "metadata": {},
   "source": [
    "# 11.Calculate the count of Highest qualified member."
   ]
  },
  {
   "cell_type": "code",
   "execution_count": 32,
   "metadata": {},
   "outputs": [
    {
     "data": {
      "text/plain": [
       "Graduate          19\n",
       "Professional      10\n",
       "Under-Graduate    10\n",
       "Post-Graduate      6\n",
       "Illiterate         5\n",
       "Name: Highest_Qualified_Member, dtype: int64"
      ]
     },
     "execution_count": 32,
     "metadata": {},
     "output_type": "execute_result"
    }
   ],
   "source": [
    "df['Highest_Qualified_Member'].value_counts()"
   ]
  },
  {
   "cell_type": "markdown",
   "metadata": {},
   "source": [
    "# 12.Plot the Histogram to count the No_of_Earning_Members"
   ]
  },
  {
   "cell_type": "code",
   "execution_count": 38,
   "metadata": {},
   "outputs": [
    {
     "data": {
      "text/plain": [
       "<matplotlib.axes._subplots.AxesSubplot at 0x1a1ece1b10>"
      ]
     },
     "execution_count": 38,
     "metadata": {},
     "output_type": "execute_result"
    },
    {
     "data": {
      "image/png": "[encoded data removed]",
      "text/plain": [
       "<Figure size 432x288 with 1 Axes>"
      ]
     },
     "metadata": {
      "needs_background": "light"
     },
     "output_type": "display_data"
    }
   ],
   "source": [
    "sns.distplot(df['No_of_Earning_Members'].value_counts())"
   ]
  },
  {
   "cell_type": "markdown",
   "metadata": {},
   "source": [
    "# 13.Suppose you have option to invest in Stock A or Stock B. The stocks • have different expected returns and standard deviations. The expected return of Stock A is 15% and Stock B is 10%. Standard Deviation of the returns of these stocks is 10% and 5% respectively.\n",
    "\n",
    "Which is better investment?"
   ]
  },
  {
   "cell_type": "code",
   "execution_count": null,
   "metadata": {},
   "outputs": [],
   "source": []
  }
 ],
 "metadata": {
  "kernelspec": {
   "display_name": "Python 3",
   "language": "python",
   "name": "python3"
  },
  "language_info": {
   "codemirror_mode": {
    "name": "ipython",
    "version": 3
   },
   "file_extension": ".py",
   "mimetype": "text/x-python",
   "name": "python",
   "nbconvert_exporter": "python",
   "pygments_lexer": "ipython3",
   "version": "3.7.6"
  }
 },
 "nbformat": 4,
 "nbformat_minor": 2
}
