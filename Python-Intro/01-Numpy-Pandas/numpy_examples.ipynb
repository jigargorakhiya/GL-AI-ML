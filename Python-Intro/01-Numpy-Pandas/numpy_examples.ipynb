{
 "cells": [
  {
   "cell_type": "markdown",
   "metadata": {},
   "source": [
    "# NumPy\n",
    "\n",
    "numpy is python's package for doing math that is more advanced than +-*/\n",
    "\n",
    "This includes special functions like cosine, exponential, sqrt, ...\n",
    "\n",
    "On top of this we can use numpy to generate samples from many types of random variables\n",
    "\n",
    "numpy also has a powerful data type to define vectors, matrices, and tensors\n",
    "\n",
    "With these data types numpy also allows us to do linear algebra - matrix multiplication and matrix-vector solutions"
   ]
  },
  {
   "cell_type": "code",
   "execution_count": 1,
   "metadata": {},
   "outputs": [],
   "source": [
    "# the first step of using numpy is to tell python to use it\n",
    "import numpy as np"
   ]
  },
  {
   "cell_type": "code",
   "execution_count": 2,
   "metadata": {},
   "outputs": [
    {
     "name": "stdout",
     "output_type": "stream",
     "text": [
      "-1.0\n",
      "1.1\n",
      "5.2\n"
     ]
    }
   ],
   "source": [
    "print(np.cos(np.pi))\n",
    "print(np.sqrt(1.21))\n",
    "print(np.log(np.exp(5.2)))"
   ]
  },
  {
   "cell_type": "code",
   "execution_count": 3,
   "metadata": {},
   "outputs": [
    {
     "name": "stdout",
     "output_type": "stream",
     "text": [
      "[1 2 3]\n",
      "\n",
      "[[1 2 1]\n",
      " [4 5 9]\n",
      " [1 8 9]]\n",
      "\n",
      "[[1 4 1]\n",
      " [2 5 8]\n",
      " [1 9 9]]\n"
     ]
    }
   ],
   "source": [
    "# we can create numpy arrays by converting lists\n",
    "# this is a vector\n",
    "vec = np.array([1,2,3])\n",
    "print(vec)\n",
    "# we can create matrices by converting lists of lists\n",
    "mat = np.array([[1,2,1],[4,5,9],[1,8,9]])\n",
    "print('')\n",
    "print(mat)\n",
    "print('')\n",
    "print(mat.T)"
   ]
  },
  {
   "cell_type": "code",
   "execution_count": 4,
   "metadata": {},
   "outputs": [
    {
     "name": "stdout",
     "output_type": "stream",
     "text": [
      "[ 0  1  2  3  4  5  6  7  8  9 10 11 12 13 14]\n",
      "\n",
      "[ 3  9 15]\n"
     ]
    }
   ],
   "source": [
    "# there are lots of other ways to create numpy arrays\n",
    "vec2 = np.arange(0,15)\n",
    "print(vec2)\n",
    "print('')\n",
    "vec3 = np.arange(3,21,6)\n",
    "print(vec3)\n"
   ]
  },
  {
   "cell_type": "code",
   "execution_count": 5,
   "metadata": {},
   "outputs": [
    {
     "name": "stdout",
     "output_type": "stream",
     "text": [
      "[0.         0.55555556 1.11111111 1.66666667 2.22222222 2.77777778\n",
      " 3.33333333 3.88888889 4.44444444 5.        ]\n",
      "\n",
      "[[0.         0.55555556]\n",
      " [1.11111111 1.66666667]\n",
      " [2.22222222 2.77777778]\n",
      " [3.33333333 3.88888889]\n",
      " [4.44444444 5.        ]]\n",
      "[[0.         0.55555556]\n",
      " [1.11111111 1.66666667]\n",
      " [2.22222222 2.77777778]\n",
      " [3.33333333 3.88888889]\n",
      " [4.44444444 5.        ]]\n",
      "[0.         0.55555556 1.11111111 1.66666667 2.22222222 2.77777778\n",
      " 3.33333333 3.88888889 4.44444444 5.        ]\n"
     ]
    }
   ],
   "source": [
    "\n",
    "vec4 = np.linspace(0,5,10)\n",
    "print(vec4)\n",
    "print('')\n",
    "print(vec4.reshape(5,2))\n",
    "vec4_reshaped = vec4.reshape(5,2)\n",
    "print(vec4_reshaped)\n",
    "print(vec4)"
   ]
  },
  {
   "cell_type": "code",
   "execution_count": 6,
   "metadata": {},
   "outputs": [
    {
     "name": "stdout",
     "output_type": "stream",
     "text": [
      "[[0. 0. 0.]\n",
      " [0. 0. 0.]\n",
      " [0. 0. 0.]\n",
      " [0. 0. 0.]\n",
      " [0. 0. 0.]]\n",
      "\n",
      "[[1. 1. 1. 1. 1.]\n",
      " [1. 1. 1. 1. 1.]\n",
      " [1. 1. 1. 1. 1.]]\n",
      "\n",
      "[[1. 0. 0. 0. 0.]\n",
      " [0. 1. 0. 0. 0.]\n",
      " [0. 0. 1. 0. 0.]\n",
      " [0. 0. 0. 1. 0.]\n",
      " [0. 0. 0. 0. 1.]]\n"
     ]
    }
   ],
   "source": [
    "mat2 = np.zeros([5,3])\n",
    "print(mat2)\n",
    "mat3 = np.ones((3,5))\n",
    "print('')\n",
    "print(mat3)\n",
    "mat4 = np.eye(5)\n",
    "print('')\n",
    "print(mat4)"
   ]
  },
  {
   "cell_type": "code",
   "execution_count": 7,
   "metadata": {},
   "outputs": [
    {
     "name": "stdout",
     "output_type": "stream",
     "text": [
      "[1 2 3 4 5]\n",
      "[3 4 5 6 7]\n",
      "[ 4  6  8 10 12]\n",
      "[ 3  8 15 24 35]\n",
      "[1.         0.5        0.33333333 0.25       0.2       ]\n",
      "[1.73205081 2.         2.23606798 2.44948974 2.64575131]\n"
     ]
    }
   ],
   "source": [
    "# we can +-*/ arrays together if they're the right size\n",
    "vec5 = np.arange(1,6)\n",
    "vec6 = np.arange(3,8)\n",
    "print(vec5)\n",
    "print(vec6)\n",
    "print(vec5+vec6)\n",
    "print(vec5*vec6)\n",
    "print(1/vec5)\n",
    "print(np.sqrt(vec6))"
   ]
  },
  {
   "cell_type": "code",
   "execution_count": 8,
   "metadata": {},
   "outputs": [
    {
     "name": "stdout",
     "output_type": "stream",
     "text": [
      "[[1 2 1]\n",
      " [4 5 9]\n",
      " [1 8 9]]\n",
      "\n",
      "[1 2 3]\n",
      "\n",
      "[ 8 41 44]\n"
     ]
    }
   ],
   "source": [
    "# we can do matrix multiplication\n",
    "print(mat)\n",
    "print('')\n",
    "print(vec)\n",
    "print()\n",
    "product = np.matmul(mat,vec)\n",
    "print(product)"
   ]
  },
  {
   "cell_type": "code",
   "execution_count": 9,
   "metadata": {},
   "outputs": [
    {
     "name": "stdout",
     "output_type": "stream",
     "text": [
      "[1. 2. 3.]\n",
      "\n",
      "[[ 0.5         0.18518519 -0.24074074]\n",
      " [ 0.5        -0.14814815  0.09259259]\n",
      " [-0.5         0.11111111  0.05555556]]\n"
     ]
    }
   ],
   "source": [
    "print(np.linalg.solve(mat,product))\n",
    "print('')\n",
    "print(np.linalg.inv(mat))"
   ]
  },
  {
   "cell_type": "code",
   "execution_count": 10,
   "metadata": {},
   "outputs": [
    {
     "name": "stdout",
     "output_type": "stream",
     "text": [
      "['blue' 'red' 'orange' 'purple' 'purple' 'orange' 'Red' '6']\n",
      "['6' 'Red' 'blue' 'orange' 'purple' 'red']\n"
     ]
    }
   ],
   "source": [
    "# we can find the unique values in an array\n",
    "vec7 = np.array(['blue','red','orange','purple','purple','orange','Red',6])\n",
    "print(vec7)\n",
    "print(np.unique(vec7))"
   ]
  },
  {
   "cell_type": "code",
   "execution_count": 11,
   "metadata": {},
   "outputs": [
    {
     "name": "stdout",
     "output_type": "stream",
     "text": [
      "[[0.48615046 0.14203195 0.22276823 0.72549131 0.01487305]\n",
      " [0.70242916 0.96333647 0.6192684  0.30742311 0.51035024]\n",
      " [0.72019345 0.39661866 0.78176785 0.7697666  0.09439055]\n",
      " [0.06017418 0.47847671 0.65697378 0.10324451 0.73055635]\n",
      " [0.11247539 0.28132478 0.3005816  0.61364952 0.04872331]]\n",
      "\n",
      "[[ 0.16013757 -1.39876162 -0.95916809 -0.27832745  1.06720904]\n",
      " [-1.3834714  -1.5070568   0.1726992   1.01880122  0.69748666]\n",
      " [ 0.59482315  0.43894689  1.55942766 -1.37028511 -0.69720375]\n",
      " [-0.71711343  1.13462428 -0.06964748  0.6569046   0.01421552]\n",
      " [ 0.60213644 -0.87495799  0.50336616  2.09349544 -0.25234509]\n",
      " [-0.5647674   0.20641652  1.60372017  0.45004102 -0.09406637]\n",
      " [ 0.89730069  1.06978293  0.66694695  0.63663721 -2.9842738 ]\n",
      " [-0.38951384  1.2043181  -2.02210629  1.73655756  1.35328071]\n",
      " [ 0.83809298 -0.3948443   0.32113924  0.84340727 -1.3223629 ]\n",
      " [-0.65469961  0.3133089   0.16052645  0.02590081  1.81992721]]\n"
     ]
    }
   ],
   "source": [
    "# we can also use numpy to generate samples of a random variable\n",
    "rand_mat = np.random.rand(5,5) # uniform random variable\n",
    "print(rand_mat)\n",
    "rand_mat2 = np.random.randn(10,5) # standard normal random variable\n",
    "print('')\n",
    "print(rand_mat2)"
   ]
  },
  {
   "cell_type": "code",
   "execution_count": 12,
   "metadata": {},
   "outputs": [
    {
     "name": "stdout",
     "output_type": "stream",
     "text": [
      "0.4337215853635162\n",
      "1.0486367868959219\n"
     ]
    }
   ],
   "source": [
    "# we can also use numpy for statistical tools on arrays\n",
    "print(np.mean(rand_mat))\n",
    "print(np.std(rand_mat2))"
   ]
  },
  {
   "cell_type": "code",
   "execution_count": 13,
   "metadata": {},
   "outputs": [
    {
     "name": "stdout",
     "output_type": "stream",
     "text": [
      "0.014873047407651718\n",
      "2.093495443316228\n"
     ]
    }
   ],
   "source": [
    "print(np.min(rand_mat))\n",
    "print(np.max(rand_mat2))"
   ]
  },
  {
   "cell_type": "code",
   "execution_count": 14,
   "metadata": {},
   "outputs": [],
   "source": [
    "# break here for next video!"
   ]
  },
  {
   "cell_type": "code",
   "execution_count": 15,
   "metadata": {},
   "outputs": [
    {
     "name": "stdout",
     "output_type": "stream",
     "text": [
      "[-0.86420984  0.23170592 -0.7163392  -0.29870916 -0.64645579 -1.37493259\n",
      "  0.26949206  0.30362573 -1.56944305  0.99580007 -0.56094232  0.10864794\n",
      " -0.83686246 -0.16723091  1.65915199  1.0434939   2.21856953 -1.17503695\n",
      " -0.69007379]\n",
      "0.2694920557932422\n"
     ]
    }
   ],
   "source": [
    "# how do we access entries in a numpy vector\n",
    "rand_vec = np.random.randn(19)\n",
    "print(rand_vec)\n",
    "print(rand_vec[6])"
   ]
  },
  {
   "cell_type": "code",
   "execution_count": 16,
   "metadata": {},
   "outputs": [
    {
     "name": "stdout",
     "output_type": "stream",
     "text": [
      "[-0.64645579 -1.37493259  0.26949206  0.30362573 -1.56944305]\n"
     ]
    }
   ],
   "source": [
    "# we can access multiple entries at once using :\n",
    "print(rand_vec[4:9])"
   ]
  },
  {
   "cell_type": "code",
   "execution_count": 17,
   "metadata": {},
   "outputs": [
    {
     "name": "stdout",
     "output_type": "stream",
     "text": [
      "[ 0  3  6  9 12]\n",
      "[-0.86420984 -0.29870916  0.26949206  0.99580007 -0.83686246]\n"
     ]
    }
   ],
   "source": [
    "# we can also access multiple non-consecutive entries using np.arange\n",
    "print(np.arange(0,15,3))\n",
    "print(rand_vec[np.arange(0,15,3)])"
   ]
  },
  {
   "cell_type": "code",
   "execution_count": 18,
   "metadata": {},
   "outputs": [
    {
     "name": "stdout",
     "output_type": "stream",
     "text": [
      "[[0.48615046 0.14203195 0.22276823 0.72549131 0.01487305]\n",
      " [0.70242916 0.96333647 0.6192684  0.30742311 0.51035024]\n",
      " [0.72019345 0.39661866 0.78176785 0.7697666  0.09439055]\n",
      " [0.06017418 0.47847671 0.65697378 0.10324451 0.73055635]\n",
      " [0.11247539 0.28132478 0.3005816  0.61364952 0.04872331]]\n",
      "0.6192684036170182\n",
      "0.6192684036170182\n"
     ]
    }
   ],
   "source": [
    "# what about matrices\n",
    "print(rand_mat)\n",
    "print(rand_mat[1][2])\n",
    "print(rand_mat[1,2])\n"
   ]
  },
  {
   "cell_type": "code",
   "execution_count": 19,
   "metadata": {},
   "outputs": [
    {
     "name": "stdout",
     "output_type": "stream",
     "text": [
      "[[0.14203195 0.22276823]\n",
      " [0.96333647 0.6192684 ]]\n"
     ]
    }
   ],
   "source": [
    "print(rand_mat[0:2,1:3])"
   ]
  },
  {
   "cell_type": "code",
   "execution_count": 20,
   "metadata": {},
   "outputs": [
    {
     "name": "stdout",
     "output_type": "stream",
     "text": [
      "[-0.86420984  0.23170592 -0.7163392  -0.29870916 -0.64645579 -1.37493259\n",
      "  0.26949206  0.30362573 -1.56944305  0.99580007 -0.56094232  0.10864794\n",
      " -0.83686246 -0.16723091  1.65915199  1.0434939   2.21856953 -1.17503695\n",
      " -0.69007379]\n",
      "\n",
      "[-0.86420984  0.23170592 -0.7163392   4.          4.         -1.37493259\n",
      "  0.26949206  0.30362573 -1.56944305  0.99580007 -0.56094232  0.10864794\n",
      " -0.83686246 -0.16723091  1.65915199  1.0434939   2.21856953 -1.17503695\n",
      " -0.69007379]\n",
      "\n",
      "[-0.86420984  0.23170592 -0.7163392   1.          2.         -1.37493259\n",
      "  0.26949206  0.30362573 -1.56944305  0.99580007 -0.56094232  0.10864794\n",
      " -0.83686246 -0.16723091  1.65915199  1.0434939   2.21856953 -1.17503695\n",
      " -0.69007379]\n"
     ]
    }
   ],
   "source": [
    "# let's change some values in an array!\n",
    "print(rand_vec)\n",
    "rand_vec[3:5] = 4\n",
    "print('')\n",
    "print(rand_vec)\n",
    "rand_vec[3:5] = [1,2]\n",
    "print('')\n",
    "print(rand_vec)"
   ]
  },
  {
   "cell_type": "code",
   "execution_count": 21,
   "metadata": {},
   "outputs": [
    {
     "name": "stdout",
     "output_type": "stream",
     "text": [
      "[[0.48615046 0.14203195 0.22276823 0.72549131 0.01487305]\n",
      " [0.70242916 0.96333647 0.6192684  0.30742311 0.51035024]\n",
      " [0.72019345 0.39661866 0.78176785 0.7697666  0.09439055]\n",
      " [0.06017418 0.47847671 0.65697378 0.10324451 0.73055635]\n",
      " [0.11247539 0.28132478 0.3005816  0.61364952 0.04872331]]\n",
      "\n",
      "[[0.48615046 0.14203195 0.22276823 0.72549131 0.01487305]\n",
      " [0.70242916 0.96333647 0.6192684  0.         0.        ]\n",
      " [0.72019345 0.39661866 0.78176785 0.         0.        ]\n",
      " [0.06017418 0.47847671 0.65697378 0.10324451 0.73055635]\n",
      " [0.11247539 0.28132478 0.3005816  0.61364952 0.04872331]]\n"
     ]
    }
   ],
   "source": [
    "print(rand_mat)\n",
    "rand_mat[1:3,3:5] = 0\n",
    "print('')\n",
    "print(rand_mat)"
   ]
  },
  {
   "cell_type": "code",
   "execution_count": 22,
   "metadata": {},
   "outputs": [
    {
     "name": "stdout",
     "output_type": "stream",
     "text": [
      "[[0.48615046 0.14203195 0.22276823]\n",
      " [0.70242916 0.96333647 0.6192684 ]]\n",
      "[[3. 3. 3.]\n",
      " [3. 3. 3.]]\n"
     ]
    }
   ],
   "source": [
    "sub_mat = rand_mat[0:2,0:3]\n",
    "print(sub_mat)\n",
    "sub_mat[:] = 3\n",
    "print(sub_mat)\n"
   ]
  },
  {
   "cell_type": "code",
   "execution_count": 23,
   "metadata": {},
   "outputs": [
    {
     "name": "stdout",
     "output_type": "stream",
     "text": [
      "[[3.         3.         3.         0.72549131 0.01487305]\n",
      " [3.         3.         3.         0.         0.        ]\n",
      " [0.72019345 0.39661866 0.78176785 0.         0.        ]\n",
      " [0.06017418 0.47847671 0.65697378 0.10324451 0.73055635]\n",
      " [0.11247539 0.28132478 0.3005816  0.61364952 0.04872331]]\n"
     ]
    }
   ],
   "source": [
    "print(rand_mat)"
   ]
  },
  {
   "cell_type": "code",
   "execution_count": 24,
   "metadata": {},
   "outputs": [
    {
     "name": "stdout",
     "output_type": "stream",
     "text": [
      "[[99. 99. 99.]\n",
      " [99. 99. 99.]]\n",
      "[[3.         3.         3.         0.72549131 0.01487305]\n",
      " [3.         3.         3.         0.         0.        ]\n",
      " [0.72019345 0.39661866 0.78176785 0.         0.        ]\n",
      " [0.06017418 0.47847671 0.65697378 0.10324451 0.73055635]\n",
      " [0.11247539 0.28132478 0.3005816  0.61364952 0.04872331]]\n"
     ]
    }
   ],
   "source": [
    "sub_mat2 = rand_mat[0:2,0:3].copy()\n",
    "sub_mat2[:] = 99\n",
    "print(sub_mat2)\n",
    "print(rand_mat)\n"
   ]
  },
  {
   "cell_type": "code",
   "execution_count": 25,
   "metadata": {},
   "outputs": [],
   "source": [
    "# break here for next video"
   ]
  },
  {
   "cell_type": "code",
   "execution_count": 26,
   "metadata": {},
   "outputs": [
    {
     "name": "stdout",
     "output_type": "stream",
     "text": [
      "[-0.12247335  0.26989466  0.29634045 -1.14607854 -0.14667187  0.03886895\n",
      "  0.98312101 -0.24855855 -0.69565189 -0.3850422   0.24680496 -0.09685003\n",
      "  2.54407462  1.09415331  0.09950515]\n",
      "[False  True  True False False  True  True False False False  True False\n",
      "  True  True  True]\n",
      "[0.26989466 0.29634045 0.03886895 0.98312101 0.24680496 2.54407462\n",
      " 1.09415331 0.09950515]\n"
     ]
    }
   ],
   "source": [
    "# we can also access entries with logicals\n",
    "rand_vec = np.random.randn(15)\n",
    "\n",
    "print(rand_vec)\n",
    "print(rand_vec>0)\n",
    "print(rand_vec[rand_vec>0])"
   ]
  },
  {
   "cell_type": "code",
   "execution_count": 27,
   "metadata": {},
   "outputs": [
    {
     "name": "stdout",
     "output_type": "stream",
     "text": [
      "[[ 0.16013757 -1.39876162 -0.95916809 -0.27832745  1.06720904]\n",
      " [-1.3834714  -1.5070568   0.1726992   1.01880122  0.69748666]\n",
      " [ 0.59482315  0.43894689  1.55942766 -1.37028511 -0.69720375]\n",
      " [-0.71711343  1.13462428 -0.06964748  0.6569046   0.01421552]\n",
      " [ 0.60213644 -0.87495799  0.50336616  2.09349544 -0.25234509]\n",
      " [-0.5647674   0.20641652  1.60372017  0.45004102 -0.09406637]\n",
      " [ 0.89730069  1.06978293  0.66694695  0.63663721 -2.9842738 ]\n",
      " [-0.38951384  1.2043181  -2.02210629  1.73655756  1.35328071]\n",
      " [ 0.83809298 -0.3948443   0.32113924  0.84340727 -1.3223629 ]\n",
      " [-0.65469961  0.3133089   0.16052645  0.02590081  1.81992721]]\n",
      "[0.16013757 1.06720904 0.1726992  1.01880122 0.69748666 0.59482315\n",
      " 0.43894689 1.55942766 1.13462428 0.6569046  0.01421552 0.60213644\n",
      " 0.50336616 2.09349544 0.20641652 1.60372017 0.45004102 0.89730069\n",
      " 1.06978293 0.66694695 0.63663721 1.2043181  1.73655756 1.35328071\n",
      " 0.83809298 0.32113924 0.84340727 0.3133089  0.16052645 0.02590081\n",
      " 1.81992721]\n"
     ]
    }
   ],
   "source": [
    "print(rand_mat2)\n",
    "print(rand_mat2[rand_mat2>0])"
   ]
  },
  {
   "cell_type": "code",
   "execution_count": 28,
   "metadata": {},
   "outputs": [
    {
     "name": "stdout",
     "output_type": "stream",
     "text": [
      "[-0.12247335  0.26989466  0.29634045 -1.14607854 -0.14667187  0.03886895\n",
      "  0.98312101 -0.24855855 -0.69565189 -0.3850422   0.24680496 -0.09685003\n",
      "  2.54407462  1.09415331  0.09950515]\n",
      "\n",
      "[-0.12247335  0.26989466  0.29634045 -1.14607854 -0.14667187  0.03886895\n",
      " -5.         -0.24855855 -0.69565189 -0.3850422   0.24680496 -0.09685003\n",
      " -5.         -5.          0.09950515]\n"
     ]
    }
   ],
   "source": [
    "\n",
    "print(rand_vec)\n",
    "print('')\n",
    "rand_vec[rand_vec>0.5] = -5\n",
    "print(rand_vec)"
   ]
  },
  {
   "cell_type": "code",
   "execution_count": 29,
   "metadata": {},
   "outputs": [],
   "source": [
    "# let's save some arrays on the disk for use later!\n",
    "np.save('saved_file_name',rand_mat2)\n"
   ]
  },
  {
   "cell_type": "code",
   "execution_count": 30,
   "metadata": {},
   "outputs": [],
   "source": [
    "np.savez('zipped_file_name',rand_mat=rand_mat,rand_mat2=rand_mat2)"
   ]
  },
  {
   "cell_type": "code",
   "execution_count": 31,
   "metadata": {},
   "outputs": [
    {
     "name": "stdout",
     "output_type": "stream",
     "text": [
      "[[ 0.16013757 -1.39876162 -0.95916809 -0.27832745  1.06720904]\n",
      " [-1.3834714  -1.5070568   0.1726992   1.01880122  0.69748666]\n",
      " [ 0.59482315  0.43894689  1.55942766 -1.37028511 -0.69720375]\n",
      " [-0.71711343  1.13462428 -0.06964748  0.6569046   0.01421552]\n",
      " [ 0.60213644 -0.87495799  0.50336616  2.09349544 -0.25234509]\n",
      " [-0.5647674   0.20641652  1.60372017  0.45004102 -0.09406637]\n",
      " [ 0.89730069  1.06978293  0.66694695  0.63663721 -2.9842738 ]\n",
      " [-0.38951384  1.2043181  -2.02210629  1.73655756  1.35328071]\n",
      " [ 0.83809298 -0.3948443   0.32113924  0.84340727 -1.3223629 ]\n",
      " [-0.65469961  0.3133089   0.16052645  0.02590081  1.81992721]]\n",
      "\n",
      "<numpy.lib.npyio.NpzFile object at 0x110376a90>\n"
     ]
    }
   ],
   "source": [
    "# now let's load it\n",
    "loaded_vec = np.load('saved_file_name.npy')\n",
    "loaded_zip = np.load('zipped_file_name.npz')\n",
    "\n",
    "print(loaded_vec)\n",
    "print('')\n",
    "print(loaded_zip)"
   ]
  },
  {
   "cell_type": "code",
   "execution_count": 32,
   "metadata": {},
   "outputs": [
    {
     "name": "stdout",
     "output_type": "stream",
     "text": [
      "[[3.         3.         3.         0.72549131 0.01487305]\n",
      " [3.         3.         3.         0.         0.        ]\n",
      " [0.72019345 0.39661866 0.78176785 0.         0.        ]\n",
      " [0.06017418 0.47847671 0.65697378 0.10324451 0.73055635]\n",
      " [0.11247539 0.28132478 0.3005816  0.61364952 0.04872331]]\n",
      "\n",
      "[[ 0.16013757 -1.39876162 -0.95916809 -0.27832745  1.06720904]\n",
      " [-1.3834714  -1.5070568   0.1726992   1.01880122  0.69748666]\n",
      " [ 0.59482315  0.43894689  1.55942766 -1.37028511 -0.69720375]\n",
      " [-0.71711343  1.13462428 -0.06964748  0.6569046   0.01421552]\n",
      " [ 0.60213644 -0.87495799  0.50336616  2.09349544 -0.25234509]\n",
      " [-0.5647674   0.20641652  1.60372017  0.45004102 -0.09406637]\n",
      " [ 0.89730069  1.06978293  0.66694695  0.63663721 -2.9842738 ]\n",
      " [-0.38951384  1.2043181  -2.02210629  1.73655756  1.35328071]\n",
      " [ 0.83809298 -0.3948443   0.32113924  0.84340727 -1.3223629 ]\n",
      " [-0.65469961  0.3133089   0.16052645  0.02590081  1.81992721]]\n",
      "[[3.         3.         3.         0.72549131 0.01487305]\n",
      " [3.         3.         3.         0.         0.        ]\n",
      " [0.72019345 0.39661866 0.78176785 0.         0.        ]\n",
      " [0.06017418 0.47847671 0.65697378 0.10324451 0.73055635]\n",
      " [0.11247539 0.28132478 0.3005816  0.61364952 0.04872331]]\n"
     ]
    }
   ],
   "source": [
    "print(loaded_zip['rand_mat'])\n",
    "print('')\n",
    "print(loaded_zip['rand_mat2'])\n",
    "\n",
    "new_array  = loaded_zip['rand_mat']\n",
    "print(new_array)"
   ]
  },
  {
   "cell_type": "code",
   "execution_count": 33,
   "metadata": {},
   "outputs": [
    {
     "name": "stdout",
     "output_type": "stream",
     "text": [
      "[[3.         3.         3.         0.72549131 0.01487305]\n",
      " [3.         3.         3.         0.         0.        ]\n",
      " [0.72019345 0.39661866 0.78176785 0.         0.        ]\n",
      " [0.06017418 0.47847671 0.65697378 0.10324451 0.73055635]\n",
      " [0.11247539 0.28132478 0.3005816  0.61364952 0.04872331]]\n",
      "\n",
      "[[3.         3.         3.         0.72549131 0.01487305]\n",
      " [3.         3.         3.         0.         0.        ]\n",
      " [0.72019345 0.39661866 0.78176785 0.         0.        ]\n",
      " [0.06017418 0.47847671 0.65697378 0.10324451 0.73055635]\n",
      " [0.11247539 0.28132478 0.3005816  0.61364952 0.04872331]]\n"
     ]
    }
   ],
   "source": [
    "# we can also save/load as text files...but only single variables\n",
    "np.savetxt('text_file_name.txt',rand_mat,delimiter=',')\n",
    "rand_mat_txt = np.loadtxt('text_file_name.txt',delimiter=',')\n",
    "print(rand_mat)\n",
    "print('')\n",
    "print(rand_mat_txt)"
   ]
  },
  {
   "cell_type": "code",
   "execution_count": null,
   "metadata": {},
   "outputs": [],
   "source": []
  }
 ],
 "metadata": {
  "kernelspec": {
   "display_name": "Python 3",
   "language": "python",
   "name": "python3"
  },
  "language_info": {
   "codemirror_mode": {
    "name": "ipython",
    "version": 3
   },
   "file_extension": ".py",
   "mimetype": "text/x-python",
   "name": "python",
   "nbconvert_exporter": "python",
   "pygments_lexer": "ipython3",
   "version": "3.7.6"
  }
 },
 "nbformat": 4,
 "nbformat_minor": 2
}
